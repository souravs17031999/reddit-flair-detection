{
 "cells": [
  {
   "cell_type": "markdown",
   "metadata": {},
   "source": [
    "# TASK - MIDAS@IIITD"
   ]
  },
  {
   "cell_type": "markdown",
   "metadata": {},
   "source": [
    "# PART - III"
   ]
  },
  {
   "cell_type": "markdown",
   "metadata": {},
   "source": [
    "### MODELLING AND BUILDING FLAIR DETECTOR "
   ]
  },
  {
   "cell_type": "code",
   "execution_count": 1,
   "metadata": {},
   "outputs": [],
   "source": [
    "# importing packages\n",
    "import numpy as np\n",
    "import pandas as pd\n",
    "import matplotlib.pyplot as plt\n",
    "import seaborn as sns\n",
    "import chardet\n",
    "import os\n",
    "from bs4 import BeautifulSoup\n",
    "import re\n",
    "from string import punctuation"
   ]
  },
  {
   "cell_type": "code",
   "execution_count": 2,
   "metadata": {},
   "outputs": [],
   "source": [
    "import nltk\n",
    "from nltk.corpus import stopwords \n",
    "from nltk.tokenize import word_tokenize"
   ]
  },
  {
   "cell_type": "code",
   "execution_count": 145,
   "metadata": {},
   "outputs": [],
   "source": [
    "# importing models and other important scikit-libraries\n",
    "from sklearn.model_selection import train_test_split, GridSearchCV, StratifiedKFold, learning_curve\n",
    "from sklearn.feature_extraction.text import CountVectorizer, TfidfVectorizer\n",
    "from sklearn.metrics import accuracy_score, confusion_matrix, classification_report\n",
    "from sklearn.pipeline import Pipeline\n",
    "from sklearn.feature_extraction.text import TfidfTransformer\n",
    "from sklearn.naive_bayes import MultinomialNB\n",
    "from sklearn.linear_model import SGDClassifier\n",
    "from sklearn.linear_model import LogisticRegression\n",
    "from sklearn.ensemble import RandomForestClassifier, VotingClassifier\n",
    "from sklearn.neural_network import MLPClassifier\n",
    "import joblib"
   ]
  },
  {
   "cell_type": "code",
   "execution_count": 4,
   "metadata": {},
   "outputs": [],
   "source": [
    "def load_dataset(dataset_path, encoding_guess=True):\n",
    "    \"\"\" \n",
    "    helps in guessing the encoding and returning the dataframe created from raw .csv file\n",
    "\n",
    "    Parameters: \n",
    "        dataset_path (str): full path of the dataset\n",
    "        encoding_guess (str): guessing the encoding using chardet module, generally useful when unknown encoding\n",
    "\n",
    "    Returns: \n",
    "        df (dataframe) : pandas dataframe containing loaded .csv file\n",
    "\n",
    "    \"\"\"\n",
    "    if encoding_guess:\n",
    "        with open(dataset_path, 'rb') as f:\n",
    "            result = chardet.detect(f.read())\n",
    "\n",
    "        print(f\"Detected file encoding as {result['encoding']}\")\n",
    "\n",
    "        df = pd.read_csv(dataset_path, encoding=result['encoding'])\n",
    "    else:\n",
    "        df = pd.read_csv(dataset_path)\n",
    "\n",
    "    return df"
   ]
  },
  {
   "cell_type": "code",
   "execution_count": 5,
   "metadata": {},
   "outputs": [
    {
     "name": "stdout",
     "output_type": "stream",
     "text": [
      "Detected file encoding as UTF-8-SIG\n"
     ]
    }
   ],
   "source": [
    "df = load_dataset('reddit_india_classifier_combined_data.csv')"
   ]
  },
  {
   "cell_type": "code",
   "execution_count": 6,
   "metadata": {},
   "outputs": [
    {
     "data": {
      "text/html": [
       "<div>\n",
       "<style scoped>\n",
       "    .dataframe tbody tr th:only-of-type {\n",
       "        vertical-align: middle;\n",
       "    }\n",
       "\n",
       "    .dataframe tbody tr th {\n",
       "        vertical-align: top;\n",
       "    }\n",
       "\n",
       "    .dataframe thead th {\n",
       "        text-align: right;\n",
       "    }\n",
       "</style>\n",
       "<table border=\"1\" class=\"dataframe\">\n",
       "  <thead>\n",
       "    <tr style=\"text-align: right;\">\n",
       "      <th></th>\n",
       "      <th>id</th>\n",
       "      <th>title</th>\n",
       "      <th>author</th>\n",
       "      <th>author_flair_text</th>\n",
       "      <th>created_utc</th>\n",
       "      <th>full_link</th>\n",
       "      <th>num_comments</th>\n",
       "      <th>num_crossposts</th>\n",
       "      <th>over_18</th>\n",
       "      <th>permalink</th>\n",
       "      <th>url</th>\n",
       "      <th>total_awards_received</th>\n",
       "      <th>pinned</th>\n",
       "      <th>score</th>\n",
       "      <th>flair</th>\n",
       "    </tr>\n",
       "  </thead>\n",
       "  <tbody>\n",
       "    <tr>\n",
       "      <th>0</th>\n",
       "      <td>eihwq2</td>\n",
       "      <td>Xiaomi Mi 10 &amp;amp; Mi 10 Pro - All Leaks, Rele...</td>\n",
       "      <td>androidbunny-com</td>\n",
       "      <td>NaN</td>\n",
       "      <td>1577882042</td>\n",
       "      <td>https://www.reddit.com/r/india/comments/eihwq2...</td>\n",
       "      <td>0</td>\n",
       "      <td>0</td>\n",
       "      <td>False</td>\n",
       "      <td>/r/india/comments/eihwq2/xiaomi_mi_10_mi_10_pr...</td>\n",
       "      <td>https://youtu.be/vuPPKtTWvZo</td>\n",
       "      <td>0</td>\n",
       "      <td>False</td>\n",
       "      <td>1</td>\n",
       "      <td>Science/Technology</td>\n",
       "    </tr>\n",
       "    <tr>\n",
       "      <th>1</th>\n",
       "      <td>eihxz8</td>\n",
       "      <td>Give me advice.</td>\n",
       "      <td>Kinggg__</td>\n",
       "      <td>NaN</td>\n",
       "      <td>1577882322</td>\n",
       "      <td>https://www.reddit.com/r/india/comments/eihxz8...</td>\n",
       "      <td>1</td>\n",
       "      <td>0</td>\n",
       "      <td>False</td>\n",
       "      <td>/r/india/comments/eihxz8/give_me_advice/</td>\n",
       "      <td>https://www.reddit.com/r/india/comments/eihxz8...</td>\n",
       "      <td>0</td>\n",
       "      <td>False</td>\n",
       "      <td>1</td>\n",
       "      <td>AskIndia</td>\n",
       "    </tr>\n",
       "    <tr>\n",
       "      <th>2</th>\n",
       "      <td>eihyxb</td>\n",
       "      <td>An Unenlightened Sadhguru in King Modi's Court</td>\n",
       "      <td>sudden_dust</td>\n",
       "      <td>सब चंगा सी, चूतियों</td>\n",
       "      <td>1577882535</td>\n",
       "      <td>https://www.reddit.com/r/india/comments/eihyxb...</td>\n",
       "      <td>6</td>\n",
       "      <td>0</td>\n",
       "      <td>False</td>\n",
       "      <td>/r/india/comments/eihyxb/an_unenlightened_sadh...</td>\n",
       "      <td>https://thewire.in/politics/an-unenlightened-s...</td>\n",
       "      <td>0</td>\n",
       "      <td>False</td>\n",
       "      <td>1</td>\n",
       "      <td>Politics</td>\n",
       "    </tr>\n",
       "  </tbody>\n",
       "</table>\n",
       "</div>"
      ],
      "text/plain": [
       "       id                                              title  \\\n",
       "0  eihwq2  Xiaomi Mi 10 &amp; Mi 10 Pro - All Leaks, Rele...   \n",
       "1  eihxz8                                    Give me advice.   \n",
       "2  eihyxb     An Unenlightened Sadhguru in King Modi's Court   \n",
       "\n",
       "             author    author_flair_text  created_utc  \\\n",
       "0  androidbunny-com                  NaN   1577882042   \n",
       "1          Kinggg__                  NaN   1577882322   \n",
       "2       sudden_dust  सब चंगा सी, चूतियों   1577882535   \n",
       "\n",
       "                                           full_link  num_comments  \\\n",
       "0  https://www.reddit.com/r/india/comments/eihwq2...             0   \n",
       "1  https://www.reddit.com/r/india/comments/eihxz8...             1   \n",
       "2  https://www.reddit.com/r/india/comments/eihyxb...             6   \n",
       "\n",
       "   num_crossposts  over_18                                          permalink  \\\n",
       "0               0    False  /r/india/comments/eihwq2/xiaomi_mi_10_mi_10_pr...   \n",
       "1               0    False           /r/india/comments/eihxz8/give_me_advice/   \n",
       "2               0    False  /r/india/comments/eihyxb/an_unenlightened_sadh...   \n",
       "\n",
       "                                                 url  total_awards_received  \\\n",
       "0                       https://youtu.be/vuPPKtTWvZo                      0   \n",
       "1  https://www.reddit.com/r/india/comments/eihxz8...                      0   \n",
       "2  https://thewire.in/politics/an-unenlightened-s...                      0   \n",
       "\n",
       "   pinned  score               flair  \n",
       "0   False      1  Science/Technology  \n",
       "1   False      1            AskIndia  \n",
       "2   False      1            Politics  "
      ]
     },
     "execution_count": 6,
     "metadata": {},
     "output_type": "execute_result"
    }
   ],
   "source": [
    "df.head(3)"
   ]
  },
  {
   "cell_type": "code",
   "execution_count": 7,
   "metadata": {},
   "outputs": [],
   "source": [
    "#Total flairs : 37"
   ]
  },
  {
   "cell_type": "code",
   "execution_count": 8,
   "metadata": {},
   "outputs": [
    {
     "data": {
      "text/plain": [
       "'!\"#$%&\\'()*+,-./:;<=>?@[\\\\]^_`{|}~'"
      ]
     },
     "execution_count": 8,
     "metadata": {},
     "output_type": "execute_result"
    }
   ],
   "source": [
    "punctuation"
   ]
  },
  {
   "cell_type": "code",
   "execution_count": 9,
   "metadata": {},
   "outputs": [],
   "source": [
    "STOPWORDS = set(stopwords.words('english'))"
   ]
  },
  {
   "cell_type": "markdown",
   "metadata": {},
   "source": [
    "### Preprocesing the textual data"
   ]
  },
  {
   "cell_type": "code",
   "execution_count": 10,
   "metadata": {},
   "outputs": [],
   "source": [
    "def clean_text(text):\n",
    "    \"\"\" \n",
    "    helps in pre-processing the text data\n",
    "\n",
    "    Parameters: \n",
    "        text (str): a large raw text \n",
    "\n",
    "    Returns: \n",
    "        text (str) : processed string after various cleaning ops.\n",
    "    \"\"\"\n",
    "    text = text.lower()\n",
    "    text = re.compile('[/(){}\\[\\]\\|@,;]').sub(' ', text)\n",
    "    text = re.compile('[^0-9a-z #+_]').sub('', text)\n",
    "    text = ' '.join(word for word in text.split() if word not in STOPWORDS and word not in punctuation)\n",
    "    return text"
   ]
  },
  {
   "cell_type": "code",
   "execution_count": 11,
   "metadata": {},
   "outputs": [],
   "source": [
    "df['title'] = df['title'].apply(clean_text)"
   ]
  },
  {
   "cell_type": "code",
   "execution_count": 12,
   "metadata": {},
   "outputs": [],
   "source": [
    "X = df.iloc[:, 1]\n",
    "y = df.iloc[:, -1]"
   ]
  },
  {
   "cell_type": "code",
   "execution_count": 13,
   "metadata": {},
   "outputs": [],
   "source": [
    "X_train, X_test, y_train, y_test = train_test_split(X, y, test_size=0.2, random_state = 0)"
   ]
  },
  {
   "cell_type": "code",
   "execution_count": 97,
   "metadata": {},
   "outputs": [],
   "source": [
    "assert X_train.shape == y_train.shape\n",
    "assert X_test.shape == y_test.shape"
   ]
  },
  {
   "cell_type": "markdown",
   "metadata": {},
   "source": [
    "### MODELLING SGD CLASSIFIER "
   ]
  },
  {
   "cell_type": "markdown",
   "metadata": {},
   "source": [
    "##### TUNING THE HYPERPARAMETERS AND SELECTING THE BEST MODEL"
   ]
  },
  {
   "cell_type": "code",
   "execution_count": 224,
   "metadata": {},
   "outputs": [],
   "source": [
    "def SGD_best(X_train, y_train, X_test, y_test):\n",
    "    \"\"\" \n",
    "    modelling SGD classifier\n",
    "\n",
    "    Parameters: \n",
    "        X_train (dataframe): training features\n",
    "        y_train (dataframe): training target values \n",
    "        X_test (dataframe): testing features\n",
    "        y_test (dataframe): testing target values\n",
    "\n",
    "    Returns: \n",
    "        CV.best_estimator_[2] (dict) : best parameters after hyperparameter tuning\n",
    "        CV.best_estimator_ (dict) : best model estimator \n",
    "    \"\"\"\n",
    "    pipe = Pipeline([('vect', CountVectorizer()),\n",
    "                     ('tfidf', TfidfTransformer()),\n",
    "                     ('clf', SGDClassifier())\n",
    "                    ])\n",
    "    parameters = {\n",
    "        'vect__ngram_range': [(1, 1), (1, 2), (2, 2), (2, 3)],\n",
    "        'tfidf__use_idf': (True, False),\n",
    "        \"clf__alpha\" : [0.0001, 0.001, 0.01],\n",
    "        \"clf__penalty\" : [\"l2\", \"l1\", \"none\"],\n",
    "        \"clf__loss\" : [\"hinge\", \"log\", \"squared_hinge\", \"modified_huber\"],\n",
    "    }\n",
    "    CV = GridSearchCV(pipe, parameters, cv=5, verbose = 3, n_jobs= -1, scoring='accuracy')\n",
    "    CV.fit(X_train, y_train)\n",
    "    print(accuracy_score(y_test, CV.best_estimator_.predict(X_test)))\n",
    "    results = pd.DataFrame(CV.cv_results_)[['params', 'mean_test_score', 'rank_test_score']]\n",
    "    print(results.nlargest(5, 'rank_test_score'))\n",
    "    return CV.best_estimator_[2], CV.best_estimator_"
   ]
  },
  {
   "cell_type": "code",
   "execution_count": 225,
   "metadata": {},
   "outputs": [
    {
     "name": "stdout",
     "output_type": "stream",
     "text": [
      "Fitting 5 folds for each of 288 candidates, totalling 1440 fits\n"
     ]
    },
    {
     "name": "stderr",
     "output_type": "stream",
     "text": [
      "c:\\users\\dell\\appdata\\local\\programs\\python\\python37\\lib\\site-packages\\scikit_learn-0.21.2-py3.7-win-amd64.egg\\sklearn\\model_selection\\_split.py:657: Warning: The least populated class in y has only 1 members, which is too few. The minimum number of members in any class cannot be less than n_splits=5.\n",
      "  % (min_groups, self.n_splits)), Warning)\n",
      "[Parallel(n_jobs=-1)]: Using backend LokyBackend with 4 concurrent workers.\n",
      "[Parallel(n_jobs=-1)]: Done  40 tasks      | elapsed:    2.5s\n",
      "[Parallel(n_jobs=-1)]: Done 232 tasks      | elapsed:   16.9s\n",
      "[Parallel(n_jobs=-1)]: Done 418 tasks      | elapsed:   37.7s\n",
      "[Parallel(n_jobs=-1)]: Done 642 tasks      | elapsed:   53.5s\n",
      "[Parallel(n_jobs=-1)]: Done 930 tasks      | elapsed:  1.3min\n",
      "[Parallel(n_jobs=-1)]: Done 1282 tasks      | elapsed:  1.8min\n",
      "[Parallel(n_jobs=-1)]: Done 1440 out of 1440 | elapsed:  2.0min finished\n",
      "c:\\users\\dell\\appdata\\local\\programs\\python\\python37\\lib\\site-packages\\scikit_learn-0.21.2-py3.7-win-amd64.egg\\sklearn\\model_selection\\_search.py:813: DeprecationWarning: The default of the `iid` parameter will change from True to False in version 0.22 and will be removed in 0.24. This will change numeric results when test-set sizes are unequal.\n",
      "  DeprecationWarning)\n"
     ]
    },
    {
     "name": "stdout",
     "output_type": "stream",
     "text": [
      "0.4991869918699187\n",
      "                                                params  mean_test_score  \\\n",
      "205  {'clf__alpha': 0.01, 'clf__loss': 'hinge', 'cl...         0.089061   \n",
      "206  {'clf__alpha': 0.01, 'clf__loss': 'hinge', 'cl...         0.115901   \n",
      "204  {'clf__alpha': 0.01, 'clf__loss': 'hinge', 'cl...         0.139081   \n",
      "200  {'clf__alpha': 0.01, 'clf__loss': 'hinge', 'cl...         0.163481   \n",
      "207  {'clf__alpha': 0.01, 'clf__loss': 'hinge', 'cl...         0.166734   \n",
      "\n",
      "     rank_test_score  \n",
      "205              288  \n",
      "206              287  \n",
      "204              286  \n",
      "200              285  \n",
      "207              284  \n"
     ]
    }
   ],
   "source": [
    "best_sgd_param, sgd_clf = SGD_best(X_train, y_train, X_test, y_test)"
   ]
  },
  {
   "cell_type": "markdown",
   "metadata": {},
   "source": [
    "### MODELLING MULTINOMIALNB CLASSIFIER \n",
    "##### TUNING THE HYPERPARAMETERS AND SELECTING THE BEST MODEL"
   ]
  },
  {
   "cell_type": "code",
   "execution_count": 114,
   "metadata": {},
   "outputs": [],
   "source": [
    "def MNB_best(X_train, y_train, X_test, y_test):\n",
    "    \"\"\" \n",
    "    modelling MULTINOMIAL classifier\n",
    "\n",
    "    Parameters: \n",
    "        X_train (dataframe): training features\n",
    "        y_train (dataframe): training target values \n",
    "        X_test (dataframe): testing features\n",
    "        y_test (dataframe): testing target values\n",
    "\n",
    "    Returns: \n",
    "        CV.best_estimator_[2] (dict) : best parameters after hyperparameter tuning\n",
    "        CV.best_estimator_ (dict) : best model estimator \n",
    "    \"\"\"\n",
    "    pipe = Pipeline([('vect', CountVectorizer()),\n",
    "                     ('tfidf', TfidfTransformer()),\n",
    "                     ('clf', MultinomialNB())\n",
    "                    ])\n",
    "    parameters = {\n",
    "        'vect__ngram_range': [(1, 1), (1, 2), (2, 2)],\n",
    "        'tfidf__use_idf': (True, False),\n",
    "        'clf__alpha' : [0.1, 0.01, 0.001, 0.0001],\n",
    "    }\n",
    "    CV = GridSearchCV(pipe, parameters, cv=5, verbose = 3, n_jobs= -1, scoring='accuracy')\n",
    "    CV.fit(X_train, y_train)\n",
    "    print(accuracy_score(y_test, CV.best_estimator_.predict(X_test)))\n",
    "    results = pd.DataFrame(CV.cv_results_)[['params', 'mean_test_score', 'rank_test_score']]\n",
    "    print(results.nlargest(5, 'rank_test_score'))\n",
    "    return CV.best_estimator_[2], CV.best_estimator_"
   ]
  },
  {
   "cell_type": "code",
   "execution_count": 115,
   "metadata": {},
   "outputs": [
    {
     "name": "stdout",
     "output_type": "stream",
     "text": [
      "Fitting 5 folds for each of 24 candidates, totalling 120 fits\n"
     ]
    },
    {
     "name": "stderr",
     "output_type": "stream",
     "text": [
      "c:\\users\\dell\\appdata\\local\\programs\\python\\python37\\lib\\site-packages\\scikit_learn-0.21.2-py3.7-win-amd64.egg\\sklearn\\model_selection\\_split.py:657: Warning: The least populated class in y has only 1 members, which is too few. The minimum number of members in any class cannot be less than n_splits=5.\n",
      "  % (min_groups, self.n_splits)), Warning)\n",
      "[Parallel(n_jobs=-1)]: Using backend LokyBackend with 4 concurrent workers.\n",
      "[Parallel(n_jobs=-1)]: Done  40 tasks      | elapsed:    2.1s\n",
      "[Parallel(n_jobs=-1)]: Done 120 out of 120 | elapsed:    6.8s finished\n",
      "c:\\users\\dell\\appdata\\local\\programs\\python\\python37\\lib\\site-packages\\scikit_learn-0.21.2-py3.7-win-amd64.egg\\sklearn\\model_selection\\_search.py:813: DeprecationWarning: The default of the `iid` parameter will change from True to False in version 0.22 and will be removed in 0.24. This will change numeric results when test-set sizes are unequal.\n",
      "  DeprecationWarning)\n"
     ]
    },
    {
     "name": "stdout",
     "output_type": "stream",
     "text": [
      "0.4861788617886179\n",
      "                                               params  mean_test_score  \\\n",
      "23  {'clf__alpha': 0.0001, 'tfidf__use_idf': False...         0.379423   \n",
      "20  {'clf__alpha': 0.0001, 'tfidf__use_idf': True,...         0.379829   \n",
      "17  {'clf__alpha': 0.001, 'tfidf__use_idf': False,...         0.380236   \n",
      "14  {'clf__alpha': 0.001, 'tfidf__use_idf': True, ...         0.380643   \n",
      "2   {'clf__alpha': 0.1, 'tfidf__use_idf': True, 'v...         0.381456   \n",
      "\n",
      "    rank_test_score  \n",
      "23               24  \n",
      "20               23  \n",
      "17               22  \n",
      "14               21  \n",
      "2                20  \n"
     ]
    }
   ],
   "source": [
    "best_mnb_param, mnb_clf = MNB_best(X_train, y_train, X_test, y_test)"
   ]
  },
  {
   "cell_type": "markdown",
   "metadata": {},
   "source": [
    "### MODELLING RANDOMFOREST CLASSIFIER \n",
    "##### TUNING THE HYPERPARAMETERS AND SELECTING THE BEST MODEL"
   ]
  },
  {
   "cell_type": "code",
   "execution_count": 116,
   "metadata": {},
   "outputs": [],
   "source": [
    "def RF_best(X_train, y_train, X_test, y_test):\n",
    "    \"\"\" \n",
    "    modelling RANDOMFOREST classifier\n",
    "\n",
    "    Parameters: \n",
    "        X_train (dataframe): training features\n",
    "        y_train (dataframe): training target values \n",
    "        X_test (dataframe): testing features\n",
    "        y_test (dataframe): testing target values\n",
    "\n",
    "    Returns: \n",
    "        CV.best_estimator_[2] (dict) : best parameters after hyperparameter tuning\n",
    "        CV.best_estimator_ (dict) : best model estimator \n",
    "    \"\"\"\n",
    "    pipe = Pipeline([('vect', CountVectorizer()),\n",
    "                     ('tfidf', TfidfTransformer()),\n",
    "                     ('clf', RandomForestClassifier())\n",
    "                    ])\n",
    "    parameters = {\n",
    "        'vect__ngram_range': [(1, 1), (1, 2), (2, 2)],\n",
    "        'tfidf__use_idf': (True, False),\n",
    "        'clf__n_estimators' : [360, 400],\n",
    "        'clf__max_depth' : [13, 15, 20],\n",
    "    }\n",
    "    CV = GridSearchCV(pipe, parameters, cv=5, verbose = 3, n_jobs= -1, scoring='accuracy')\n",
    "    CV.fit(X_train, y_train)\n",
    "    print(accuracy_score(y_test, CV.best_estimator_.predict(X_test)))\n",
    "    results = pd.DataFrame(CV.cv_results_)[['params', 'mean_test_score', 'rank_test_score']]\n",
    "    print(results.nlargest(5, 'rank_test_score'))\n",
    "    return CV.best_estimator_[2], CV.best_estimator_"
   ]
  },
  {
   "cell_type": "code",
   "execution_count": 117,
   "metadata": {},
   "outputs": [
    {
     "name": "stdout",
     "output_type": "stream",
     "text": [
      "Fitting 5 folds for each of 36 candidates, totalling 180 fits\n"
     ]
    },
    {
     "name": "stderr",
     "output_type": "stream",
     "text": [
      "c:\\users\\dell\\appdata\\local\\programs\\python\\python37\\lib\\site-packages\\scikit_learn-0.21.2-py3.7-win-amd64.egg\\sklearn\\model_selection\\_split.py:657: Warning: The least populated class in y has only 1 members, which is too few. The minimum number of members in any class cannot be less than n_splits=5.\n",
      "  % (min_groups, self.n_splits)), Warning)\n",
      "[Parallel(n_jobs=-1)]: Using backend LokyBackend with 4 concurrent workers.\n",
      "[Parallel(n_jobs=-1)]: Done  24 tasks      | elapsed:   14.2s\n",
      "[Parallel(n_jobs=-1)]: Done 120 tasks      | elapsed:  1.0min\n",
      "[Parallel(n_jobs=-1)]: Done 180 out of 180 | elapsed:  1.5min finished\n",
      "c:\\users\\dell\\appdata\\local\\programs\\python\\python37\\lib\\site-packages\\scikit_learn-0.21.2-py3.7-win-amd64.egg\\sklearn\\model_selection\\_search.py:813: DeprecationWarning: The default of the `iid` parameter will change from True to False in version 0.22 and will be removed in 0.24. This will change numeric results when test-set sizes are unequal.\n",
      "  DeprecationWarning)\n"
     ]
    },
    {
     "name": "stdout",
     "output_type": "stream",
     "text": [
      "0.4\n",
      "                                               params  mean_test_score  \\\n",
      "5   {'clf__max_depth': 13, 'clf__n_estimators': 36...         0.268402   \n",
      "11  {'clf__max_depth': 13, 'clf__n_estimators': 40...         0.268402   \n",
      "2   {'clf__max_depth': 13, 'clf__n_estimators': 36...         0.269622   \n",
      "8   {'clf__max_depth': 13, 'clf__n_estimators': 40...         0.269622   \n",
      "17  {'clf__max_depth': 15, 'clf__n_estimators': 36...         0.269622   \n",
      "\n",
      "    rank_test_score  \n",
      "5                35  \n",
      "11               35  \n",
      "2                32  \n",
      "8                32  \n",
      "17               32  \n"
     ]
    }
   ],
   "source": [
    "best_rf_param, rf_clf = RF_best(X_train, y_train, X_test, y_test)"
   ]
  },
  {
   "cell_type": "markdown",
   "metadata": {},
   "source": [
    "### MODELLING LOGISTIC REGRESSOR \n",
    "##### TUNING THE HYPERPARAMETERS AND SELECTING THE BEST MODEL"
   ]
  },
  {
   "cell_type": "code",
   "execution_count": 118,
   "metadata": {},
   "outputs": [],
   "source": [
    "def LR_best(X_train, y_train, X_test, y_test):\n",
    "    \"\"\" \n",
    "    modelling LOGISTIC REGRESSOR\n",
    "\n",
    "    Parameters: \n",
    "        X_train (dataframe): training features\n",
    "        y_train (dataframe): training target values \n",
    "        X_test (dataframe): testing features\n",
    "        y_test (dataframe): testing target values\n",
    "\n",
    "    Returns: \n",
    "        CV.best_estimator_[2] (dict) : best parameters after hyperparameter tuning\n",
    "        CV.best_estimator_ (dict) : best model estimator \n",
    "    \"\"\"\n",
    "    pipe = Pipeline([('vect', CountVectorizer()),\n",
    "                     ('tfidf', TfidfTransformer()),\n",
    "                     ('clf', LogisticRegression())\n",
    "                    ])\n",
    "    parameters = {\n",
    "        'vect__ngram_range': [(1, 1), (1, 2), (2, 2)],\n",
    "        'tfidf__use_idf': (True, False),\n",
    "        'clf__penalty' : [\"l2\"],\n",
    "        'clf__solver' : ['liblinear', 'newton-cg', 'lbfgs'],\n",
    "    }\n",
    "    CV = GridSearchCV(pipe, parameters, cv=5, verbose = 3, n_jobs= -1, scoring='accuracy')\n",
    "    CV.fit(X_train, y_train)\n",
    "    print(accuracy_score(y_test, CV.best_estimator_.predict(X_test)))\n",
    "    results = pd.DataFrame(CV.cv_results_)[['params', 'mean_test_score', 'rank_test_score']]\n",
    "    print(results.nlargest(5, 'rank_test_score'))\n",
    "    return CV.best_estimator_[2], CV.best_estimator_"
   ]
  },
  {
   "cell_type": "code",
   "execution_count": 119,
   "metadata": {},
   "outputs": [
    {
     "name": "stdout",
     "output_type": "stream",
     "text": [
      "Fitting 5 folds for each of 18 candidates, totalling 90 fits\n"
     ]
    },
    {
     "name": "stderr",
     "output_type": "stream",
     "text": [
      "c:\\users\\dell\\appdata\\local\\programs\\python\\python37\\lib\\site-packages\\scikit_learn-0.21.2-py3.7-win-amd64.egg\\sklearn\\model_selection\\_split.py:657: Warning: The least populated class in y has only 1 members, which is too few. The minimum number of members in any class cannot be less than n_splits=5.\n",
      "  % (min_groups, self.n_splits)), Warning)\n",
      "[Parallel(n_jobs=-1)]: Using backend LokyBackend with 4 concurrent workers.\n",
      "[Parallel(n_jobs=-1)]: Done  24 tasks      | elapsed:    4.1s\n",
      "[Parallel(n_jobs=-1)]: Done  90 out of  90 | elapsed:   46.0s finished\n",
      "c:\\users\\dell\\appdata\\local\\programs\\python\\python37\\lib\\site-packages\\scikit_learn-0.21.2-py3.7-win-amd64.egg\\sklearn\\linear_model\\logistic.py:469: FutureWarning: Default multi_class will be changed to 'auto' in 0.22. Specify the multi_class option to silence this warning.\n",
      "  \"this warning.\", FutureWarning)\n"
     ]
    },
    {
     "name": "stdout",
     "output_type": "stream",
     "text": [
      "0.46178861788617886\n",
      "                                               params  mean_test_score  \\\n",
      "2   {'clf__penalty': 'l2', 'clf__solver': 'libline...         0.337536   \n",
      "8   {'clf__penalty': 'l2', 'clf__solver': 'newton-...         0.337536   \n",
      "14  {'clf__penalty': 'l2', 'clf__solver': 'lbfgs',...         0.337536   \n",
      "11  {'clf__penalty': 'l2', 'clf__solver': 'newton-...         0.341196   \n",
      "17  {'clf__penalty': 'l2', 'clf__solver': 'lbfgs',...         0.341196   \n",
      "\n",
      "    rank_test_score  \n",
      "2                16  \n",
      "8                16  \n",
      "14               16  \n",
      "11               14  \n",
      "17               14  \n"
     ]
    }
   ],
   "source": [
    "best_lr_param, lr_clf = LR_best(X_train, y_train, X_test, y_test)"
   ]
  },
  {
   "cell_type": "markdown",
   "metadata": {},
   "source": [
    "### MODELLING MLP CLASSIFIER \n",
    "##### TUNING THE HYPERPARAMETERS AND SELECTING THE BEST MODEL"
   ]
  },
  {
   "cell_type": "code",
   "execution_count": 120,
   "metadata": {},
   "outputs": [],
   "source": [
    "def MLP_best(X_train, y_train, X_test, y_test):\n",
    "    \"\"\" \n",
    "    modelling MLP classifier\n",
    "\n",
    "    Parameters: \n",
    "        X_train (dataframe): training features\n",
    "        y_train (dataframe): training target values \n",
    "        X_test (dataframe): testing features\n",
    "        y_test (dataframe): testing target values\n",
    "\n",
    "    Returns: \n",
    "        CV.best_estimator_[2] (dict) : best parameters after hyperparameter tuning\n",
    "        CV.best_estimator_ (dict) : best model estimator \n",
    "    \"\"\"\n",
    "    pipe = Pipeline([('vect', CountVectorizer()),\n",
    "                     ('tfidf', TfidfTransformer()),\n",
    "                     ('clf', MLPClassifier())\n",
    "                    ])\n",
    "    parameters = {\n",
    "        'vect__ngram_range': [(1, 1), (1, 2), (2, 2)],\n",
    "        'tfidf__use_idf': (True, False),\n",
    "    }\n",
    "    CV = GridSearchCV(pipe, parameters, cv=5, verbose = 3, n_jobs= -1, scoring='accuracy')\n",
    "    CV.fit(X_train, y_train)\n",
    "    print(accuracy_score(y_test, CV.best_estimator_.predict(y_test)))\n",
    "    results = pd.DataFrame(CV.cv_results_)[['params', 'mean_test_score', 'rank_test_score']]\n",
    "    print(results.nlargest(5, 'rank_test_score'))\n",
    "    return CV.best_estimator_[2]"
   ]
  },
  {
   "cell_type": "code",
   "execution_count": 121,
   "metadata": {},
   "outputs": [],
   "source": [
    "best_mlp_param = MLP_best(X_train, y_train, X_test, y_test)\n",
    "best_mlp_param\n",
    "pipe_ensemble = Pipeline([('vect', CountVectorizer()),\n",
    "                     ('tfidf', TfidfTransformer())\n",
    "                    ])"
   ]
  },
  {
   "cell_type": "markdown",
   "metadata": {},
   "source": [
    "### CREATING PIPELINE FOR MODEL TRAINING AND EVALUATION"
   ]
  },
  {
   "cell_type": "code",
   "execution_count": 122,
   "metadata": {},
   "outputs": [],
   "source": [
    "pipe_ensemble = Pipeline([('vect', CountVectorizer()),\n",
    "                     ('tfidf', TfidfTransformer())\n",
    "                    ])"
   ]
  },
  {
   "cell_type": "markdown",
   "metadata": {},
   "source": [
    "#### USING VOTINGCLASSIFIER ENSEMBLE - COMBINING ALL MODEL'S BEST PARAMS"
   ]
  },
  {
   "cell_type": "code",
   "execution_count": 123,
   "metadata": {},
   "outputs": [],
   "source": [
    "ensemble = VotingClassifier(estimators=[('sgd', best_sgd_param), ('mnb', best_mnb_param), ('rf', best_rf_param), ('lr', best_lr_param)], voting='soft')"
   ]
  },
  {
   "cell_type": "code",
   "execution_count": 124,
   "metadata": {},
   "outputs": [],
   "source": [
    "pipe_ensemble.steps.append(['ensemble', ensemble])"
   ]
  },
  {
   "cell_type": "code",
   "execution_count": 125,
   "metadata": {},
   "outputs": [
    {
     "name": "stderr",
     "output_type": "stream",
     "text": [
      "c:\\users\\dell\\appdata\\local\\programs\\python\\python37\\lib\\site-packages\\scikit_learn-0.21.2-py3.7-win-amd64.egg\\sklearn\\linear_model\\logistic.py:469: FutureWarning: Default multi_class will be changed to 'auto' in 0.22. Specify the multi_class option to silence this warning.\n",
      "  \"this warning.\", FutureWarning)\n"
     ]
    },
    {
     "data": {
      "text/plain": [
       "Pipeline(memory=None,\n",
       "         steps=[('vect',\n",
       "                 CountVectorizer(analyzer='word', binary=False,\n",
       "                                 decode_error='strict',\n",
       "                                 dtype=<class 'numpy.int64'>, encoding='utf-8',\n",
       "                                 input='content', lowercase=True, max_df=1.0,\n",
       "                                 max_features=None, min_df=1,\n",
       "                                 ngram_range=(1, 1), preprocessor=None,\n",
       "                                 stop_words=None, strip_accents=None,\n",
       "                                 token_pattern='(?u)\\\\b\\\\w\\\\w+\\\\b',\n",
       "                                 tokenizer=None, vocabulary=Non...\n",
       "                                                                      verbose=0,\n",
       "                                                                      warm_start=False)),\n",
       "                                              ('lr',\n",
       "                                               LogisticRegression(C=1.0,\n",
       "                                                                  class_weight=None,\n",
       "                                                                  dual=False,\n",
       "                                                                  fit_intercept=True,\n",
       "                                                                  intercept_scaling=1,\n",
       "                                                                  l1_ratio=None,\n",
       "                                                                  max_iter=100,\n",
       "                                                                  multi_class='warn',\n",
       "                                                                  n_jobs=None,\n",
       "                                                                  penalty='l2',\n",
       "                                                                  random_state=None,\n",
       "                                                                  solver='liblinear',\n",
       "                                                                  tol=0.0001,\n",
       "                                                                  verbose=0,\n",
       "                                                                  warm_start=False))],\n",
       "                                  flatten_transform=True, n_jobs=None,\n",
       "                                  voting='soft', weights=None)]],\n",
       "         verbose=False)"
      ]
     },
     "execution_count": 125,
     "metadata": {},
     "output_type": "execute_result"
    }
   ],
   "source": [
    "pipe_ensemble.fit(X_train, y_train)"
   ]
  },
  {
   "cell_type": "code",
   "execution_count": 127,
   "metadata": {},
   "outputs": [
    {
     "name": "stdout",
     "output_type": "stream",
     "text": [
      "0.4926829268292683\n"
     ]
    }
   ],
   "source": [
    "print(accuracy_score(y_test, pipe_ensemble.predict(X_test)))"
   ]
  },
  {
   "cell_type": "code",
   "execution_count": 214,
   "metadata": {},
   "outputs": [],
   "source": [
    "def plot_best(X_train, y_train, best=True, models=None):\n",
    "    \"\"\" \n",
    "    plotting all best algorithms on basis of cross validation scores\n",
    "\n",
    "    Parameters: \n",
    "        X_train (dataframe): training features\n",
    "        y_train (dataframe): training target values \n",
    "        best (bool) : if best model is wanted or simply retrain from scratch\n",
    "        models (bool) : list of models already trained\n",
    "\n",
    "    Returns: \n",
    "        None\n",
    "    \"\"\"\n",
    "    \n",
    "    test_scores_mean = []\n",
    "    \n",
    "    if best:\n",
    "        train_sizes, train_scores, test_scores = learning_curve(sgd_clf, X_train, y_train, cv=5, random_state=0)\n",
    "        test_scores_mean.append(np.mean(test_scores, axis=1))\n",
    "\n",
    "        train_sizes, train_scores, test_scores = learning_curve(mnb_clf, X_train, y_train, cv=5, random_state=0)\n",
    "        test_scores_mean.append(np.mean(test_scores, axis=1))\n",
    "\n",
    "        train_sizes, train_scores, test_scores = learning_curve(rf_clf, X_train, y_train, cv=5, random_state=0)\n",
    "        test_scores_mean.append(np.mean(test_scores, axis=1))\n",
    "\n",
    "        train_sizes, train_scores, test_scores = learning_curve(lr_clf, X_train, y_train, cv=5, random_state=0)\n",
    "        test_scores_mean.append(np.mean(test_scores, axis=1))\n",
    "    \n",
    "    else:   \n",
    "        if models == None:\n",
    "            print(\"Please pass the list of trained estimators\")\n",
    "            return\n",
    "        else:\n",
    "            train_sizes, train_scores, test_scores = learning_curve(models[0], X_train, y_train, cv=5, random_state=0)\n",
    "            test_scores_mean.append(np.mean(test_scores, axis=1))\n",
    "\n",
    "            train_sizes, train_scores, test_scores = learning_curve(models[1], X_train, y_train, cv=5, random_state=0)\n",
    "            test_scores_mean.append(np.mean(test_scores, axis=1))\n",
    "\n",
    "            train_sizes, train_scores, test_scores = learning_curve(models[2], X_train, y_train, cv=5, random_state=0)\n",
    "            test_scores_mean.append(np.mean(test_scores, axis=1))\n",
    "\n",
    "            train_sizes, train_scores, test_scores = learning_curve(models[3], X_train, y_train, cv=5, random_state=0)\n",
    "            test_scores_mean.append(np.mean(test_scores, axis=1))\n",
    "    print(\"Plotting final metrics cross validation scores for all algorithms : \")\n",
    "    \n",
    "    fig, ax =plt.subplots(1,1, figsize=(25, 10))\n",
    "    plt.xlabel(\"Training examples\")\n",
    "    plt.ylabel(\"Cross-validation score\")\n",
    "    plt.title('BEST ALGORITHMS')\n",
    "    plt.plot(train_sizes, test_scores_mean[0], 'o-', color=\"b\", label=\"SGD ALGORITHM\")\n",
    "    plt.plot(train_sizes, test_scores_mean[1], 'o-', color=\"g\", label=\"MULTINOMIALNB ALGORITHM\")\n",
    "    plt.plot(train_sizes, test_scores_mean[2], 'o-', color=\"k\", label=\"RANDOMFORESTCLASSIFIER ALGORITHM\")\n",
    "    plt.plot(train_sizes, test_scores_mean[3], 'o-', color=\"c\", label=\"LOGISTIC REGRESSION ALGORITHM\")\n",
    "    plt.legend(loc='best')\n",
    "    plt.show()"
   ]
  },
  {
   "cell_type": "code",
   "execution_count": 143,
   "metadata": {},
   "outputs": [
    {
     "name": "stderr",
     "output_type": "stream",
     "text": [
      "c:\\users\\dell\\appdata\\local\\programs\\python\\python37\\lib\\site-packages\\scikit_learn-0.21.2-py3.7-win-amd64.egg\\sklearn\\model_selection\\_split.py:657: Warning: The least populated class in y has only 1 members, which is too few. The minimum number of members in any class cannot be less than n_splits=5.\n",
      "  % (min_groups, self.n_splits)), Warning)\n",
      "c:\\users\\dell\\appdata\\local\\programs\\python\\python37\\lib\\site-packages\\scikit_learn-0.21.2-py3.7-win-amd64.egg\\sklearn\\model_selection\\_split.py:657: Warning: The least populated class in y has only 1 members, which is too few. The minimum number of members in any class cannot be less than n_splits=5.\n",
      "  % (min_groups, self.n_splits)), Warning)\n",
      "c:\\users\\dell\\appdata\\local\\programs\\python\\python37\\lib\\site-packages\\scikit_learn-0.21.2-py3.7-win-amd64.egg\\sklearn\\model_selection\\_split.py:657: Warning: The least populated class in y has only 1 members, which is too few. The minimum number of members in any class cannot be less than n_splits=5.\n",
      "  % (min_groups, self.n_splits)), Warning)\n",
      "c:\\users\\dell\\appdata\\local\\programs\\python\\python37\\lib\\site-packages\\scikit_learn-0.21.2-py3.7-win-amd64.egg\\sklearn\\model_selection\\_split.py:657: Warning: The least populated class in y has only 1 members, which is too few. The minimum number of members in any class cannot be less than n_splits=5.\n",
      "  % (min_groups, self.n_splits)), Warning)\n",
      "c:\\users\\dell\\appdata\\local\\programs\\python\\python37\\lib\\site-packages\\scikit_learn-0.21.2-py3.7-win-amd64.egg\\sklearn\\linear_model\\logistic.py:469: FutureWarning: Default multi_class will be changed to 'auto' in 0.22. Specify the multi_class option to silence this warning.\n",
      "  \"this warning.\", FutureWarning)\n",
      "c:\\users\\dell\\appdata\\local\\programs\\python\\python37\\lib\\site-packages\\scikit_learn-0.21.2-py3.7-win-amd64.egg\\sklearn\\linear_model\\logistic.py:469: FutureWarning: Default multi_class will be changed to 'auto' in 0.22. Specify the multi_class option to silence this warning.\n",
      "  \"this warning.\", FutureWarning)\n",
      "c:\\users\\dell\\appdata\\local\\programs\\python\\python37\\lib\\site-packages\\scikit_learn-0.21.2-py3.7-win-amd64.egg\\sklearn\\linear_model\\logistic.py:469: FutureWarning: Default multi_class will be changed to 'auto' in 0.22. Specify the multi_class option to silence this warning.\n",
      "  \"this warning.\", FutureWarning)\n",
      "c:\\users\\dell\\appdata\\local\\programs\\python\\python37\\lib\\site-packages\\scikit_learn-0.21.2-py3.7-win-amd64.egg\\sklearn\\linear_model\\logistic.py:469: FutureWarning: Default multi_class will be changed to 'auto' in 0.22. Specify the multi_class option to silence this warning.\n",
      "  \"this warning.\", FutureWarning)\n",
      "c:\\users\\dell\\appdata\\local\\programs\\python\\python37\\lib\\site-packages\\scikit_learn-0.21.2-py3.7-win-amd64.egg\\sklearn\\linear_model\\logistic.py:469: FutureWarning: Default multi_class will be changed to 'auto' in 0.22. Specify the multi_class option to silence this warning.\n",
      "  \"this warning.\", FutureWarning)\n",
      "c:\\users\\dell\\appdata\\local\\programs\\python\\python37\\lib\\site-packages\\scikit_learn-0.21.2-py3.7-win-amd64.egg\\sklearn\\linear_model\\logistic.py:469: FutureWarning: Default multi_class will be changed to 'auto' in 0.22. Specify the multi_class option to silence this warning.\n",
      "  \"this warning.\", FutureWarning)\n",
      "c:\\users\\dell\\appdata\\local\\programs\\python\\python37\\lib\\site-packages\\scikit_learn-0.21.2-py3.7-win-amd64.egg\\sklearn\\linear_model\\logistic.py:469: FutureWarning: Default multi_class will be changed to 'auto' in 0.22. Specify the multi_class option to silence this warning.\n",
      "  \"this warning.\", FutureWarning)\n",
      "c:\\users\\dell\\appdata\\local\\programs\\python\\python37\\lib\\site-packages\\scikit_learn-0.21.2-py3.7-win-amd64.egg\\sklearn\\linear_model\\logistic.py:469: FutureWarning: Default multi_class will be changed to 'auto' in 0.22. Specify the multi_class option to silence this warning.\n",
      "  \"this warning.\", FutureWarning)\n",
      "c:\\users\\dell\\appdata\\local\\programs\\python\\python37\\lib\\site-packages\\scikit_learn-0.21.2-py3.7-win-amd64.egg\\sklearn\\linear_model\\logistic.py:469: FutureWarning: Default multi_class will be changed to 'auto' in 0.22. Specify the multi_class option to silence this warning.\n",
      "  \"this warning.\", FutureWarning)\n",
      "c:\\users\\dell\\appdata\\local\\programs\\python\\python37\\lib\\site-packages\\scikit_learn-0.21.2-py3.7-win-amd64.egg\\sklearn\\linear_model\\logistic.py:469: FutureWarning: Default multi_class will be changed to 'auto' in 0.22. Specify the multi_class option to silence this warning.\n",
      "  \"this warning.\", FutureWarning)\n",
      "c:\\users\\dell\\appdata\\local\\programs\\python\\python37\\lib\\site-packages\\scikit_learn-0.21.2-py3.7-win-amd64.egg\\sklearn\\linear_model\\logistic.py:469: FutureWarning: Default multi_class will be changed to 'auto' in 0.22. Specify the multi_class option to silence this warning.\n",
      "  \"this warning.\", FutureWarning)\n",
      "c:\\users\\dell\\appdata\\local\\programs\\python\\python37\\lib\\site-packages\\scikit_learn-0.21.2-py3.7-win-amd64.egg\\sklearn\\linear_model\\logistic.py:469: FutureWarning: Default multi_class will be changed to 'auto' in 0.22. Specify the multi_class option to silence this warning.\n",
      "  \"this warning.\", FutureWarning)\n",
      "c:\\users\\dell\\appdata\\local\\programs\\python\\python37\\lib\\site-packages\\scikit_learn-0.21.2-py3.7-win-amd64.egg\\sklearn\\linear_model\\logistic.py:469: FutureWarning: Default multi_class will be changed to 'auto' in 0.22. Specify the multi_class option to silence this warning.\n",
      "  \"this warning.\", FutureWarning)\n",
      "c:\\users\\dell\\appdata\\local\\programs\\python\\python37\\lib\\site-packages\\scikit_learn-0.21.2-py3.7-win-amd64.egg\\sklearn\\linear_model\\logistic.py:469: FutureWarning: Default multi_class will be changed to 'auto' in 0.22. Specify the multi_class option to silence this warning.\n",
      "  \"this warning.\", FutureWarning)\n",
      "c:\\users\\dell\\appdata\\local\\programs\\python\\python37\\lib\\site-packages\\scikit_learn-0.21.2-py3.7-win-amd64.egg\\sklearn\\linear_model\\logistic.py:469: FutureWarning: Default multi_class will be changed to 'auto' in 0.22. Specify the multi_class option to silence this warning.\n",
      "  \"this warning.\", FutureWarning)\n",
      "c:\\users\\dell\\appdata\\local\\programs\\python\\python37\\lib\\site-packages\\scikit_learn-0.21.2-py3.7-win-amd64.egg\\sklearn\\linear_model\\logistic.py:469: FutureWarning: Default multi_class will be changed to 'auto' in 0.22. Specify the multi_class option to silence this warning.\n",
      "  \"this warning.\", FutureWarning)\n",
      "c:\\users\\dell\\appdata\\local\\programs\\python\\python37\\lib\\site-packages\\scikit_learn-0.21.2-py3.7-win-amd64.egg\\sklearn\\linear_model\\logistic.py:469: FutureWarning: Default multi_class will be changed to 'auto' in 0.22. Specify the multi_class option to silence this warning.\n",
      "  \"this warning.\", FutureWarning)\n",
      "c:\\users\\dell\\appdata\\local\\programs\\python\\python37\\lib\\site-packages\\scikit_learn-0.21.2-py3.7-win-amd64.egg\\sklearn\\linear_model\\logistic.py:469: FutureWarning: Default multi_class will be changed to 'auto' in 0.22. Specify the multi_class option to silence this warning.\n",
      "  \"this warning.\", FutureWarning)\n",
      "c:\\users\\dell\\appdata\\local\\programs\\python\\python37\\lib\\site-packages\\scikit_learn-0.21.2-py3.7-win-amd64.egg\\sklearn\\linear_model\\logistic.py:469: FutureWarning: Default multi_class will be changed to 'auto' in 0.22. Specify the multi_class option to silence this warning.\n",
      "  \"this warning.\", FutureWarning)\n",
      "c:\\users\\dell\\appdata\\local\\programs\\python\\python37\\lib\\site-packages\\scikit_learn-0.21.2-py3.7-win-amd64.egg\\sklearn\\linear_model\\logistic.py:469: FutureWarning: Default multi_class will be changed to 'auto' in 0.22. Specify the multi_class option to silence this warning.\n",
      "  \"this warning.\", FutureWarning)\n",
      "c:\\users\\dell\\appdata\\local\\programs\\python\\python37\\lib\\site-packages\\scikit_learn-0.21.2-py3.7-win-amd64.egg\\sklearn\\linear_model\\logistic.py:469: FutureWarning: Default multi_class will be changed to 'auto' in 0.22. Specify the multi_class option to silence this warning.\n",
      "  \"this warning.\", FutureWarning)\n",
      "c:\\users\\dell\\appdata\\local\\programs\\python\\python37\\lib\\site-packages\\scikit_learn-0.21.2-py3.7-win-amd64.egg\\sklearn\\linear_model\\logistic.py:469: FutureWarning: Default multi_class will be changed to 'auto' in 0.22. Specify the multi_class option to silence this warning.\n",
      "  \"this warning.\", FutureWarning)\n",
      "c:\\users\\dell\\appdata\\local\\programs\\python\\python37\\lib\\site-packages\\scikit_learn-0.21.2-py3.7-win-amd64.egg\\sklearn\\linear_model\\logistic.py:469: FutureWarning: Default multi_class will be changed to 'auto' in 0.22. Specify the multi_class option to silence this warning.\n",
      "  \"this warning.\", FutureWarning)\n",
      "c:\\users\\dell\\appdata\\local\\programs\\python\\python37\\lib\\site-packages\\scikit_learn-0.21.2-py3.7-win-amd64.egg\\sklearn\\linear_model\\logistic.py:469: FutureWarning: Default multi_class will be changed to 'auto' in 0.22. Specify the multi_class option to silence this warning.\n",
      "  \"this warning.\", FutureWarning)\n",
      "c:\\users\\dell\\appdata\\local\\programs\\python\\python37\\lib\\site-packages\\scikit_learn-0.21.2-py3.7-win-amd64.egg\\sklearn\\linear_model\\logistic.py:469: FutureWarning: Default multi_class will be changed to 'auto' in 0.22. Specify the multi_class option to silence this warning.\n",
      "  \"this warning.\", FutureWarning)\n"
     ]
    },
    {
     "name": "stdout",
     "output_type": "stream",
     "text": [
      "Plotting final metrics cross validation scores for all algorithms : \n"
     ]
    },
    {
     "data": {
      "image/png": "[encoded data removed]",
      "text/plain": [
       "<Figure size 1800x720 with 1 Axes>"
      ]
     },
     "metadata": {
      "needs_background": "light"
     },
     "output_type": "display_data"
    }
   ],
   "source": [
    "plot_best(X_train, y_train)"
   ]
  },
  {
   "cell_type": "markdown",
   "metadata": {},
   "source": [
    "### SAVING BEST MODEL FOR LATER USE"
   ]
  },
  {
   "cell_type": "code",
   "execution_count": 146,
   "metadata": {},
   "outputs": [
    {
     "data": {
      "text/plain": [
       "['model.pkl']"
      ]
     },
     "execution_count": 146,
     "metadata": {},
     "output_type": "execute_result"
    }
   ],
   "source": [
    "joblib.dump(sgd_clf, 'model.pkl')"
   ]
  },
  {
   "cell_type": "code",
   "execution_count": 174,
   "metadata": {},
   "outputs": [],
   "source": [
    "model = joblib.load('model.pkl')   # MODEL TAKING ONLY TITLE AS A FEATURE"
   ]
  }
 ],
 "metadata": {
  "kernelspec": {
   "display_name": "Python 3",
   "language": "python",
   "name": "python3"
  },
  "language_info": {
   "codemirror_mode": {
    "name": "ipython",
    "version": 3
   },
   "file_extension": ".py",
   "mimetype": "text/x-python",
   "name": "python",
   "nbconvert_exporter": "python",
   "pygments_lexer": "ipython3",
   "version": "3.7.0b5"
  }
 },
 "nbformat": 4,
 "nbformat_minor": 4
}
